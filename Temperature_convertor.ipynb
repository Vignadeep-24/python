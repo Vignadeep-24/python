{
  "nbformat": 4,
  "nbformat_minor": 0,
  "metadata": {
    "colab": {
      "provenance": [],
      "authorship_tag": "ABX9TyNamrC2HJ/dOK8whjc8YrXX",
      "include_colab_link": true
    },
    "kernelspec": {
      "name": "python3",
      "display_name": "Python 3"
    },
    "language_info": {
      "name": "python"
    }
  },
  "cells": [
    {
      "cell_type": "markdown",
      "metadata": {
        "id": "view-in-github",
        "colab_type": "text"
      },
      "source": [
        "<a href=\"https://colab.research.google.com/github/Vignadeep-24/python/blob/main/Temperature_convertor.ipynb\" target=\"_parent\"><img src=\"https://colab.research.google.com/assets/colab-badge.svg\" alt=\"Open In Colab\"/></a>"
      ]
    },
    {
      "cell_type": "code",
      "execution_count": 3,
      "metadata": {
        "colab": {
          "base_uri": "https://localhost:8080/"
        },
        "id": "C77572axMbqJ",
        "outputId": "0f7b07b5-f2bf-4535-fa8c-8b73d6e6fda8"
      },
      "outputs": [
        {
          "output_type": "stream",
          "name": "stdout",
          "text": [
            "Hi all, Welcome to the temperature converter! You will understand on the logic behind temperature conversion\n",
            "\n",
            "Please select your conversion type:\n",
            "1. Celsius to Fahrenheit\n",
            "2. Celsius to Kelvin\n",
            "3. Fahrenheit to Celsius\n",
            "4. Fahrenheit to Kelvin\n",
            "5. Kelvin to Celsius or\n",
            "6. Kelvin to Fahrenheit\n",
            "Enter your choice from 1 to 6 as mentioned above: 5\n",
            "Enter the temperature value: 65.4\n",
            "65.4 Kelvin is equal to -207.74999999999997 Celsius.\n",
            "\n",
            "Do you want to perform another conversion? (yes/no): yes\n",
            "\n",
            "Please select your conversion type:\n",
            "1. Celsius to Fahrenheit\n",
            "2. Celsius to Kelvin\n",
            "3. Fahrenheit to Celsius\n",
            "4. Fahrenheit to Kelvin\n",
            "5. Kelvin to Celsius or\n",
            "6. Kelvin to Fahrenheit\n",
            "Enter your choice from 1 to 6 as mentioned above: 8\n",
            "Oops:You have entered an invalid choice. Please try again from 1 to 6.\n",
            "\n",
            "Do you want to perform another conversion? (yes/no): yes\n",
            "\n",
            "Please select your conversion type:\n",
            "1. Celsius to Fahrenheit\n",
            "2. Celsius to Kelvin\n",
            "3. Fahrenheit to Celsius\n",
            "4. Fahrenheit to Kelvin\n",
            "5. Kelvin to Celsius or\n",
            "6. Kelvin to Fahrenheit\n",
            "Enter your choice from 1 to 6 as mentioned above: 4\n",
            "Enter the temperature value: 98\n",
            "98.0 Fahrenheit is equal to 309.81666666666666 Kelvin.\n",
            "\n",
            "Do you want to perform another conversion? (yes/no): no\n",
            "Thank you! Join again for further conversion\n"
          ]
        }
      ],
      "source": [
        " def convert_temperature():\n",
        "    print(\"Hi all, Welcome to the temperature converter! You will understand on the logic behind temperature conversion\")\n",
        "\n",
        "    def celsius_to_fahrenheit(celsius):\n",
        "        return (celsius * 9/5) + 32\n",
        "\n",
        "    def celsius_to_kelvin(celsius):\n",
        "        return celsius + 273.15\n",
        "\n",
        "    def fahrenheit_to_celsius(fahrenheit):\n",
        "        return (fahrenheit - 32) * 5/9\n",
        "\n",
        "    def fahrenheit_to_kelvin(fahrenheit):\n",
        "        return (fahrenheit - 32) * 5/9 + 273.15\n",
        "\n",
        "    def kelvin_to_celsius(kelvin):\n",
        "        return kelvin - 273.15\n",
        "\n",
        "    def kelvin_to_fahrenheit(kelvin):\n",
        "        return (kelvin - 273.15) * 9/5 + 32\n",
        "\n",
        "    while True:\n",
        "        print(\"\\nPlease select your conversion type:\")\n",
        "        print(\"1. Celsius to Fahrenheit\")\n",
        "        print(\"2. Celsius to Kelvin\")\n",
        "        print(\"3. Fahrenheit to Celsius\")\n",
        "        print(\"4. Fahrenheit to Kelvin\")\n",
        "        print(\"5. Kelvin to Celsius or\")\n",
        "        print(\"6. Kelvin to Fahrenheit\")\n",
        "\n",
        "        try:\n",
        "            choice = int(input(\"Enter your choice from 1 to 6 as mentioned above: \"))\n",
        "            if choice not in range(1, 7):\n",
        "                raise ValueError(\"You have entered an invalid choice. Please try again from 1 to 6.\")\n",
        "\n",
        "            temp = float(input(\"Enter the temperature value: \"))\n",
        "\n",
        "            if choice == 1:\n",
        "                result = celsius_to_fahrenheit(temp)\n",
        "                print(f\"{temp} Celsius is equal to {result} Fahrenheit.\")\n",
        "            elif choice == 2:\n",
        "                result = celsius_to_kelvin(temp)\n",
        "                print(f\"{temp} Celsius is equal to {result} Kelvin.\")\n",
        "            elif choice == 3:\n",
        "                result = fahrenheit_to_celsius(temp)\n",
        "                print(f\"{temp} Fahrenheit is equal to {result} Celsius.\")\n",
        "            elif choice == 4:\n",
        "                result = fahrenheit_to_kelvin(temp)\n",
        "                print(f\"{temp} Fahrenheit is equal to {result} Kelvin.\")\n",
        "            elif choice == 5:\n",
        "                result = kelvin_to_celsius(temp)\n",
        "                print(f\"{temp} Kelvin is equal to {result} Celsius.\")\n",
        "            elif choice == 6:\n",
        "                result = kelvin_to_fahrenheit(temp)\n",
        "                print(f\"{temp} Kelvin is equal to {result} Fahrenheit.\")\n",
        "\n",
        "        except ValueError as e:\n",
        "            print(f\"Oops:{e}\")\n",
        "\n",
        "        restart = input(\"\\nDo you want to perform another conversion? (yes/no): \").strip().lower()\n",
        "        if restart != 'yes':\n",
        "\n",
        "            print(\"Thank you! Join again for further conversion\")\n",
        "            break\n",
        "\n",
        "convert_temperature()\n"
      ]
    }
  ]
}