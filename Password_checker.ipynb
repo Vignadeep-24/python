{
  "nbformat": 4,
  "nbformat_minor": 0,
  "metadata": {
    "colab": {
      "provenance": [],
      "authorship_tag": "ABX9TyMJt1Z2LGxCF9jS7IYiMSL5",
      "include_colab_link": true
    },
    "kernelspec": {
      "name": "python3",
      "display_name": "Python 3"
    },
    "language_info": {
      "name": "python"
    }
  },
  "cells": [
    {
      "cell_type": "markdown",
      "metadata": {
        "id": "view-in-github",
        "colab_type": "text"
      },
      "source": [
        "<a href=\"https://colab.research.google.com/github/Vignadeep-24/python/blob/main/Password_checker.ipynb\" target=\"_parent\"><img src=\"https://colab.research.google.com/assets/colab-badge.svg\" alt=\"Open In Colab\"/></a>"
      ]
    },
    {
      "cell_type": "code",
      "execution_count": 5,
      "metadata": {
        "colab": {
          "base_uri": "https://localhost:8080/"
        },
        "id": "C77572axMbqJ",
        "outputId": "52d8080a-bdc6-43fc-9b96-3da33b6c13e0"
      },
      "outputs": [
        {
          "output_type": "stream",
          "name": "stdout",
          "text": [
            "Hello All. Welcome to the Password Strength Checker!\n",
            "Please enter your password: Hello24\n",
            "\n",
            "Password Strength Check Results:\n",
            "Rules Passed:\n",
            "- Contains at least one uppercase letter\n",
            "- Contains at least one lowercase letter\n",
            "- Contains at least one number\n",
            "\n",
            "Rules Failed:\n",
            "- At least 8 characters long\n",
            "\n",
            "Your password is not strong enough.\n",
            "Do you want to try again? (yes/no): yes\n",
            "Please enter your password: HelloWorld\n",
            "\n",
            "Password Strength Check Results:\n",
            "Rules Passed:\n",
            "- At least 8 characters long\n",
            "- Contains at least one uppercase letter\n",
            "- Contains at least one lowercase letter\n",
            "\n",
            "Rules Failed:\n",
            "- Contains at least one number\n",
            "\n",
            "Your password is not strong enough.\n",
            "Do you want to try again? (yes/no): yes\n",
            "Please enter your password: HelloWorld24!\n",
            "\n",
            "Password Strength Check Results:\n",
            "Rules Passed:\n",
            "- At least 8 characters long\n",
            "- Contains at least one uppercase letter\n",
            "- Contains at least one lowercase letter\n",
            "- Contains at least one number\n",
            "- Contains at least one special character\n",
            "\n",
            "Rules Failed:\n",
            "\n",
            "Wow.Your password is super strong!\n"
          ]
        }
      ],
      "source": [
        "import re\n",
        "\n",
        "def check_password_strength():\n",
        "    print(\"Hello All. Welcome to the Password Strength Checker!\")\n",
        "\n",
        "    def validate_password(password):\n",
        "        rules_passed = []\n",
        "        rules_failed = []\n",
        "\n",
        "        # Check if the password is at least 8 characters long\n",
        "        if len(password) >= 8:\n",
        "            rules_passed.append(\"At least 8 characters long\")\n",
        "        else:\n",
        "            rules_failed.append(\"At least 8 characters long\")\n",
        "\n",
        "        # Check if the password contains at least one uppercase letter\n",
        "        if re.search(r'[A-Z]', password):\n",
        "            rules_passed.append(\"Contains at least one uppercase letter\")\n",
        "        else:\n",
        "            rules_failed.append(\"Contains at least one uppercase letter\")\n",
        "\n",
        "        # Check if the password contains at least one lowercase letter\n",
        "        if re.search(r'[a-z]', password):\n",
        "            rules_passed.append(\"Contains at least one lowercase letter\")\n",
        "        else:\n",
        "            rules_failed.append(\"Contains at least one lowercase letter\")\n",
        "\n",
        "        # Check if the password contains at least one number\n",
        "        if re.search(r'[0-9]', password):\n",
        "            rules_passed.append(\"Contains at least one number\")\n",
        "        else:\n",
        "            rules_failed.append(\"Contains at least one number\")\n",
        "\n",
        "        # Check if the password contains at least one special character\n",
        "        if re.search(r'[\\W_]', password):\n",
        "            rules_passed.append(\"Contains at least one special character\")\n",
        "\n",
        "        return rules_passed, rules_failed\n",
        "\n",
        "    while True:\n",
        "        # Ask the user for a password\n",
        "        password = input(\"Please enter your password: \")\n",
        "\n",
        "        # Validate the password\n",
        "        rules_passed, rules_failed = validate_password(password)\n",
        "\n",
        "        # Print the results\n",
        "        print(\"\\nPassword Strength Check Results:\")\n",
        "        print(\"Rules Passed:\")\n",
        "        for rule in rules_passed:\n",
        "            print(f\"- {rule}\")\n",
        "\n",
        "        print(\"\\nRules Failed:\")\n",
        "        for rule in rules_failed:\n",
        "            print(f\"- {rule}\")\n",
        "\n",
        "        # Check if the password is strong\n",
        "        if not rules_failed:\n",
        "            if \"Contains at least one special character\" in rules_passed:\n",
        "                print(\"\\nWow.Your password is super strong!\")\n",
        "            else:\n",
        "                print(\"\\nYour password is strong!\")\n",
        "            break\n",
        "        else:\n",
        "            print(\"\\nYour password is not strong enough.\")\n",
        "            try_again = input(\"Do you want to try again? (yes/no): \").strip().lower()\n",
        "            if try_again != 'yes':\n",
        "                break\n",
        "\n",
        "# Run the password strength checker\n",
        "check_password_strength()\n",
        "\n"
      ]
    }
  ]
}